{
  "nbformat": 4,
  "nbformat_minor": 0,
  "metadata": {
    "colab": {
      "provenance": [],
      "gpuType": "T4"
    },
    "kernelspec": {
      "name": "python3",
      "display_name": "Python 3"
    },
    "language_info": {
      "name": "python"
    },
    "accelerator": "GPU"
  },
  "cells": [
    {
      "cell_type": "code",
      "execution_count": null,
      "metadata": {
        "colab": {
          "base_uri": "https://localhost:8080/"
        },
        "id": "joY5rbjNU9s_",
        "outputId": "51a33a77-f0ac-4690-d0d7-992936b0c138"
      },
      "outputs": [
        {
          "output_type": "stream",
          "name": "stdout",
          "text": [
            "Please enter a number: 5.87\n",
            "The input is a float.\n"
          ]
        }
      ],
      "source": [
        "def check_input_type(user_input):\n",
        "    # First, check if the input is an integer\n",
        "    if user_input.isdigit() or (user_input[0] == '-' and user_input[1:].isdigit()):\n",
        "        print(\"The input is an integer.\")\n",
        "    # If not an integer, check if the input is a float\n",
        "    elif user_input.replace('.', '', 1).isdigit() or (user_input[0] == '-' and user_input[1:].replace('.', '', 1).isdigit()):\n",
        "        print(\"The input is a float.\")\n",
        "    # If neither an integer nor a float, it's not a number\n",
        "    else:\n",
        "        print(\"The input is not a number.\")\n",
        "\n",
        "# Ask the user for input\n",
        "user_input = input(\"Please enter a number: \")\n",
        "\n",
        "# Check the input type\n",
        "check_input_type(user_input)"
      ]
    },
    {
      "cell_type": "code",
      "source": [
        "\n",
        "Y=10.5\n",
        "X= int(Y)\n",
        "X"
      ],
      "metadata": {
        "colab": {
          "base_uri": "https://localhost:8080/"
        },
        "id": "nQPIl30iW_vD",
        "outputId": "1bebadb7-398f-4680-f344-96bc9ccd557a"
      },
      "execution_count": null,
      "outputs": [
        {
          "output_type": "execute_result",
          "data": {
            "text/plain": [
              "10"
            ]
          },
          "metadata": {},
          "execution_count": 6
        }
      ]
    },
    {
      "cell_type": "code",
      "source": [
        "def check_input_type(user_input):\n",
        "    # Convert user input to a float\n",
        "    try:\n",
        "        x = float(user_input)\n",
        "        # Convert user input to an integer\n",
        "        y = int(x)\n",
        "\n",
        "        # Check if the subtraction of x and y is zero\n",
        "        if x - y == 0:\n",
        "            print(\"The input is an integer.\")\n",
        "        else:\n",
        "            print(\"The input is a float.\")\n",
        "    except ValueError:\n",
        "        print(\"The input is not a number.\")\n",
        "\n",
        "# Ask the user for input\n",
        "user_input = input(\"Please enter a number: \")\n",
        "\n",
        "# Check the input type\n",
        "check_input_type(user_input)"
      ],
      "metadata": {
        "colab": {
          "base_uri": "https://localhost:8080/"
        },
        "id": "WJTGtZ20YDWS",
        "outputId": "bcbcdcaf-746a-4ee7-d209-e9f45ffd88f1"
      },
      "execution_count": null,
      "outputs": [
        {
          "output_type": "stream",
          "name": "stdout",
          "text": [
            "Please enter a number: 5\n",
            "The input is an integer.\n"
          ]
        }
      ]
    },
    {
      "cell_type": "code",
      "source": [
        "pip install pygame"
      ],
      "metadata": {
        "colab": {
          "base_uri": "https://localhost:8080/"
        },
        "id": "263fGvTHa8-6",
        "outputId": "9dcbd236-64cb-48bc-d4c7-dd8cd94301a9"
      },
      "execution_count": null,
      "outputs": [
        {
          "output_type": "stream",
          "name": "stdout",
          "text": [
            "Requirement already satisfied: pygame in /usr/local/lib/python3.10/dist-packages (2.5.2)\n"
          ]
        }
      ]
    },
    {
      "cell_type": "code",
      "source": [
        "import pygame\n",
        "import math\n",
        "\n",
        "# Initialize Pygame\n",
        "pygame.init()\n",
        "\n",
        "# Define constants for screen dimensions\n",
        "SCREEN_WIDTH = 400\n",
        "SCREEN_HEIGHT = 600\n",
        "\n",
        "# Define colors\n",
        "WHITE = (255, 255, 255)\n",
        "BLACK = (0, 0, 0)\n",
        "GRAY = (200, 200, 200)\n",
        "LIGHT_GRAY = (240, 240, 240)\n",
        "\n",
        "# Define the calculator screen dimensions\n",
        "SCREEN_RECT = pygame.Rect(0, 0, SCREEN_WIDTH, SCREEN_HEIGHT)\n",
        "\n",
        "# Create the screen\n",
        "screen = pygame.display.set_mode((SCREEN_WIDTH, SCREEN_HEIGHT))\n",
        "pygame.display.set_caption(\"Calculator\")\n",
        "\n",
        "# Define fonts\n",
        "font = pygame.font.Font(None, 36)\n",
        "small_font = pygame.font.Font(None, 24)\n",
        "\n",
        "# Define button dimensions and spacing\n",
        "BUTTON_WIDTH = 90\n",
        "BUTTON_HEIGHT = 60\n",
        "BUTTON_SPACING = 10\n",
        "\n",
        "# Define button rows and columns\n",
        "NUM_ROWS = 5\n",
        "NUM_COLS = 4\n",
        "\n",
        "# Create a list of buttons for the calculator\n",
        "buttons = []\n",
        "\n",
        "# Define the button labels and operations\n",
        "button_labels = [\n",
        "    ['7', '8', '9', '/'],\n",
        "    ['4', '5', '6', '*'],\n",
        "    ['1', '2', '3', '-'],\n",
        "    ['0', '.', '=', '+'],\n",
        "    ['C', 'sin', 'cos', 'tan'],\n",
        "]\n",
        "\n",
        "button_operations = {\n",
        "    '+': lambda x, y: x + y,\n",
        "    '-': lambda x, y: x - y,\n",
        "    '*': lambda x, y: x * y,\n",
        "    '/': lambda x, y: x / y if y != 0 else \"Cannot divide by zero\",\n",
        "    'sin': lambda x: math.sin(math.radians(x)),\n",
        "    'cos': lambda x: math.cos(math.radians(x)),\n",
        "    'tan': lambda x: math.tan(math.radians(x)),\n",
        "}\n",
        "\n",
        "# Create button objects for each button in the calculator\n",
        "button_start_y = 150\n",
        "for row in range(NUM_ROWS):\n",
        "    button_row = []\n",
        "    for col in range(NUM_COLS):\n",
        "        label = button_labels[row][col]\n",
        "        x = col * (BUTTON_WIDTH + BUTTON_SPACING)\n",
        "        y = button_start_y + row * (BUTTON_HEIGHT + BUTTON_SPACING)\n",
        "        button_rect = pygame.Rect(x, y, BUTTON_WIDTH, BUTTON_HEIGHT)\n",
        "        button_row.append((label, button_rect))\n",
        "    buttons.append(button_row)\n",
        "\n",
        "# Define the calculator state\n",
        "calculator_input = ''\n",
        "last_result = 0\n",
        "current_operation = None\n",
        "first_operand = None\n",
        "\n",
        "# Main loop\n",
        "running = True\n",
        "while running:\n",
        "    for event in pygame.event.get():\n",
        "        if event.type == pygame.QUIT:\n",
        "            running = False\n",
        "        elif event.type == pygame.MOUSEBUTTONDOWN:\n",
        "            # Check if a button was clicked\n",
        "            for row in buttons:\n",
        "                for label, button_rect in row:\n",
        "                    if button_rect.collidepoint(event.pos):\n",
        "                        # Handle button click based on label\n",
        "                        if label.isdigit() or label == '.':\n",
        "                            calculator_input += label\n",
        "                        elif label in button_operations:\n",
        "                            first_operand = float(calculator_input)\n",
        "                            current_operation = button_operations[label]\n",
        "                            calculator_input = ''\n",
        "                        elif label == '=':\n",
        "                            if current_operation:\n",
        "                                second_operand = float(calculator_input)\n",
        "                                last_result = current_operation(first_operand, second_operand)\n",
        "                                calculator_input = str(last_result)\n",
        "                                current_operation = None\n",
        "                        elif label == 'C':\n",
        "                            calculator_input = ''\n",
        "                            first_operand = None\n",
        "                            current_operation = None\n",
        "                        else:\n",
        "                            # Handle other operations like sin, cos, tan\n",
        "                            try:\n",
        "                                operand = float(calculator_input)\n",
        "                                last_result = button_operations[label](operand)\n",
        "                                calculator_input = str(last_result)\n",
        "                            except ValueError:\n",
        "                                calculator_input = 'Invalid'\n",
        "\n",
        "    # Clear the screen\n",
        "    screen.fill(WHITE)\n",
        "\n",
        "    # Draw calculator screen\n",
        "    pygame.draw.rect(screen, LIGHT_GRAY, (0, 0, SCREEN_WIDTH, 100))\n",
        "    display_text = font.render(calculator_input, True, BLACK)\n",
        "    screen.blit(display_text, (10, 40))\n",
        "\n",
        "    # Draw buttons\n",
        "    for row in buttons:\n",
        "        for label, button_rect in row:\n",
        "            pygame.draw.rect(screen, GRAY, button_rect)\n",
        "            button_text = small_font.render(label, True, BLACK)\n",
        "            text_x = button_rect.x + (BUTTON_WIDTH - button_text.get_width()) // 2\n",
        "            text_y = button_rect.y + (BUTTON_HEIGHT - button_text.get_height()) // 2\n",
        "            screen.blit(button_text, (text_x, text_y))\n",
        "\n",
        "    # Update the display\n",
        "    pygame.display.update()\n",
        "\n",
        "# Quit Pygame\n",
        "pygame.quit()"
      ],
      "metadata": {
        "colab": {
          "base_uri": "https://localhost:8080/"
        },
        "id": "3MQLFcthbNyx",
        "outputId": "99ed693c-d638-4f78-9e4f-a6e8d87fcf57"
      },
      "execution_count": null,
      "outputs": [
        {
          "output_type": "stream",
          "name": "stdout",
          "text": [
            "pygame 2.5.2 (SDL 2.28.2, Python 3.10.12)\n",
            "Hello from the pygame community. https://www.pygame.org/contribute.html\n"
          ]
        }
      ]
    }
  ]
}